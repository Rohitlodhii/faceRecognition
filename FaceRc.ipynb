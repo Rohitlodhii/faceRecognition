
import cv2
from matplotlib import pyplot as plt
%matplotlib inline

cascade = cv2.CascadeClassifier("ColabFaceRecognition-OpenCV/haarcascade_frontalface_default.xml")
img = cv2.imread("ColabFaceRecognition-OpenCV/me.jpg")
img = cv2.cvtColor(img, cv2.COLOR_BGR2RGB)
gray = cv2.cvtColor(img, cv2.COLOR_BGR2GRAY)
faces = cascade.detectMultiScale(gray, 2, 3)
for (x, y, w, h) in faces:
    cv2.rectangle(img, (x, y), (x+w, y+h), (255, 255, 0), 3)
    cv2.putText(img, "Face Detected", (x, y - 10), 1, 3, (255, 255, 255), 3)

plt.imshow(img)
